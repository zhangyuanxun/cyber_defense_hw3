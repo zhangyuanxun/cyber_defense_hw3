{
 "cells": [
  {
   "cell_type": "markdown",
   "metadata": {},
   "source": [
    "# Task 1 - Network-Wide Anomaly Event Detection and Diagnosis (APD)\n",
    "\n",
    "Welcome to network-wide anomaly detection homework - This homework implements the algorithms described in the paper of \"Network-Wide Anomaly Event Detection and Diagnosis With perfSONAR\". In the homework 3.1, we will learn the first part of this paper, Adaptive Plateau Detection (APD) for network performance detection to detect anomalies in a single measurement trace. \n",
    "\n",
    "Anomaly detection is to find outlier in time series data. There are plenty of anomaly types, such as unexpected spikes, drops, trend changes and level shifts. It's widely used in health monitoring, fault detection in business, event detection in sensor networks, and performance detection in computer networks. In this homework, we will focus on the anomlay detection for network performance using time-series datasets.\n",
    "\n",
    "**In howework 3.1, you will learn how to:**\n",
    "- Basic time series analysis and visualization methods in Pandas\n",
    "- Understand the problem of statistic threshold anomaly detection\n",
    "- Understand the concept of Adaptive Plateau Detection (APD) for network performance detection\n",
    "- Implement Adaptive Plateau Detection Algorithm \n",
    "\n",
    "APD agorithm is used to detected anomalies in single trace; and in howework 3.2, you will learn how to detect correlated anomalies in multiple traces.\n",
    "\n",
    "**References**\n",
    "\n",
    "[TNSM2016] Zhang, Yuanxun, Saptarshi Debroy, and Prasad Calyam. \"Network-wide anomaly event detection and diagnosis with perfsonar.\" IEEE Transactions on Network and Service Management 13.3 (2016): 666-680. (http://faculty.missouri.edu/calyamp/publications/networkwide-apd-tnsm16.pdf)\n",
    "\n",
    "[MASCOT2010] Calyam, Prasad, et al. \"Ontimedetect: Dynamic network anomaly notification in perfsonar deployments.\" 2010 IEEE International Symposium on Modeling, Analysis and Simulation of Computer and Telecommunication Systems. IEEE, 2010. (http://faculty.missouri.edu/calyamp/publications/ontimedetect_mascots10.pdf)"
   ]
  },
  {
   "cell_type": "markdown",
   "metadata": {
    "collapsed": true
   },
   "source": [
    "## 1 - Packages ##\n",
    "let's first import all the packages that you will need during this homework.\n",
    "- [numpy(1.19.1)](www.numpy.org) is the fundamental package for scientific computing with Python.\n",
    "- [matplotlib(3.3.0)](http://matplotlib.org) is a library for plotting graphs in Python.\n",
    "- [pandas(1.1.0)](https://pandas.pydata.org/) is an open-source, BSD-licensed library providing high-performance, easy-to-use data structures and data analysis tools for the Python programming language."
   ]
  },
  {
   "cell_type": "code",
   "execution_count": 1,
   "metadata": {},
   "outputs": [
    {
     "name": "stdout",
     "output_type": "stream",
     "text": [
      "/Users/yuanxun/Workspaces/cyber_defense_ds_hw\n"
     ]
    }
   ],
   "source": [
    "import numpy as np\n",
    "import pandas as pd\n",
    "from pandas import Series\n",
    "import os\n",
    "from IPython.display import display\n",
    "# import matplotlib\n",
    "# import platform\n",
    "# if platform.system() == \"Darwin\":\n",
    "#     matplotlib.use('TkAgg')\n",
    "# else:\n",
    "#     matplotlib.use('Agg')\n",
    "import matplotlib.pyplot as plt\n",
    "%matplotlib inline\n",
    "\n",
    "from pandas.plotting import register_matplotlib_converters\n",
    "register_matplotlib_converters()\n",
    "\n",
    "# set current path\n",
    "abspath = os.path.abspath(\"__file__\")\n",
    "dname = os.path.dirname(abspath)\n",
    "os.chdir(dname)\n",
    "print(os.getcwd())"
   ]
  },
  {
   "cell_type": "markdown",
   "metadata": {
    "collapsed": true
   },
   "source": [
    "## 2 - Explore Dataset ##\n",
    "First, let's load the time series dataset you will work on, and explore your dataset. In Pandas, you can load time series dataset with functions DataFrame.read_csv() and indicate datetime column for parsing as datetime.\n",
    "(Please read this reference(https://www.shanelynn.ie/python-pandas-read_csv-load-data-from-csv-files/), if you meet any path issue.)"
   ]
  },
  {
   "cell_type": "code",
   "execution_count": 2,
   "metadata": {
    "scrolled": true
   },
   "outputs": [
    {
     "name": "stdout",
     "output_type": "stream",
     "text": [
      "/Users/yuanxun/Workspaces/cyber_defense_ds_hw/traffic_dataset/time_series.csv\n"
     ]
    },
    {
     "data": {
      "text/html": [
       "<div>\n",
       "<style scoped>\n",
       "    .dataframe tbody tr th:only-of-type {\n",
       "        vertical-align: middle;\n",
       "    }\n",
       "\n",
       "    .dataframe tbody tr th {\n",
       "        vertical-align: top;\n",
       "    }\n",
       "\n",
       "    .dataframe thead th {\n",
       "        text-align: right;\n",
       "    }\n",
       "</style>\n",
       "<table border=\"1\" class=\"dataframe\">\n",
       "  <thead>\n",
       "    <tr style=\"text-align: right;\">\n",
       "      <th></th>\n",
       "      <th>ts</th>\n",
       "      <th>delay</th>\n",
       "    </tr>\n",
       "  </thead>\n",
       "  <tbody>\n",
       "    <tr>\n",
       "      <th>0</th>\n",
       "      <td>2010-01-01 00:11:52</td>\n",
       "      <td>0.015387</td>\n",
       "    </tr>\n",
       "    <tr>\n",
       "      <th>1</th>\n",
       "      <td>2010-01-01 00:13:00</td>\n",
       "      <td>0.019097</td>\n",
       "    </tr>\n",
       "    <tr>\n",
       "      <th>2</th>\n",
       "      <td>2010-01-01 00:14:49</td>\n",
       "      <td>0.017874</td>\n",
       "    </tr>\n",
       "    <tr>\n",
       "      <th>3</th>\n",
       "      <td>2010-01-01 00:21:00</td>\n",
       "      <td>0.015723</td>\n",
       "    </tr>\n",
       "    <tr>\n",
       "      <th>4</th>\n",
       "      <td>2010-01-01 00:23:05</td>\n",
       "      <td>0.015980</td>\n",
       "    </tr>\n",
       "  </tbody>\n",
       "</table>\n",
       "</div>"
      ],
      "text/plain": [
       "                   ts     delay\n",
       "0 2010-01-01 00:11:52  0.015387\n",
       "1 2010-01-01 00:13:00  0.019097\n",
       "2 2010-01-01 00:14:49  0.017874\n",
       "3 2010-01-01 00:21:00  0.015723\n",
       "4 2010-01-01 00:23:05  0.015980"
      ]
     },
     "execution_count": 2,
     "metadata": {},
     "output_type": "execute_result"
    }
   ],
   "source": [
    "dataset_folder = os.getcwd() + '/traffic_dataset/time_series.csv'\n",
    "print(dataset_folder)\n",
    "df = pd.read_csv(dataset_folder, header=0, parse_dates=[0])\n",
    "df.head()"
   ]
  },
  {
   "cell_type": "markdown",
   "metadata": {},
   "source": [
    "As you see, the basic components in the time series dataset are timestamp and corresponding value, the value could be varied for different datasets. For example, the value could be network performance (e.g., delay, throughput) in computer networking dataset; or house price in marking dataset. In this homework, the value is the networking delay collected from the networking environment. \n",
    "\n",
    "And we can summary the dataset in pandas using DataFrame.describe(). As we can see, it tells us basic information (such as count, mean, min, max, intervals) about your dataset. \n",
    "\n",
    "From the output of the table, you can see the basic components in the time series dataset inlcudes the timestamp and its corresponding value. Here, the value could be varied for different datasets. For example, this  value could be: \n",
    "- network performance metrics (e.g., delay, throughput) for a networking dataset;\n",
    "- house price metric for a marketing dataset. \n",
    "#In this homework, we consider the value as the networking delay collected from the networking environment."
   ]
  },
  {
   "cell_type": "markdown",
   "metadata": {},
   "source": [
    "Using this DataFrame.describe() we can get the basic information (such as count, mean, min, max, intervals) about your dataset."
   ]
  },
  {
   "cell_type": "code",
   "execution_count": 3,
   "metadata": {},
   "outputs": [
    {
     "data": {
      "text/html": [
       "<div>\n",
       "<style scoped>\n",
       "    .dataframe tbody tr th:only-of-type {\n",
       "        vertical-align: middle;\n",
       "    }\n",
       "\n",
       "    .dataframe tbody tr th {\n",
       "        vertical-align: top;\n",
       "    }\n",
       "\n",
       "    .dataframe thead th {\n",
       "        text-align: right;\n",
       "    }\n",
       "</style>\n",
       "<table border=\"1\" class=\"dataframe\">\n",
       "  <thead>\n",
       "    <tr style=\"text-align: right;\">\n",
       "      <th></th>\n",
       "      <th>delay</th>\n",
       "    </tr>\n",
       "  </thead>\n",
       "  <tbody>\n",
       "    <tr>\n",
       "      <th>count</th>\n",
       "      <td>2807.000000</td>\n",
       "    </tr>\n",
       "    <tr>\n",
       "      <th>mean</th>\n",
       "      <td>0.043476</td>\n",
       "    </tr>\n",
       "    <tr>\n",
       "      <th>std</th>\n",
       "      <td>0.178793</td>\n",
       "    </tr>\n",
       "    <tr>\n",
       "      <th>min</th>\n",
       "      <td>0.014882</td>\n",
       "    </tr>\n",
       "    <tr>\n",
       "      <th>25%</th>\n",
       "      <td>0.015480</td>\n",
       "    </tr>\n",
       "    <tr>\n",
       "      <th>50%</th>\n",
       "      <td>0.016111</td>\n",
       "    </tr>\n",
       "    <tr>\n",
       "      <th>75%</th>\n",
       "      <td>0.016886</td>\n",
       "    </tr>\n",
       "    <tr>\n",
       "      <th>max</th>\n",
       "      <td>2.072402</td>\n",
       "    </tr>\n",
       "  </tbody>\n",
       "</table>\n",
       "</div>"
      ],
      "text/plain": [
       "             delay\n",
       "count  2807.000000\n",
       "mean      0.043476\n",
       "std       0.178793\n",
       "min       0.014882\n",
       "25%       0.015480\n",
       "50%       0.016111\n",
       "75%       0.016886\n",
       "max       2.072402"
      ]
     },
     "execution_count": 3,
     "metadata": {},
     "output_type": "execute_result"
    }
   ],
   "source": [
    "df.describe()"
   ]
  },
  {
   "cell_type": "markdown",
   "metadata": {},
   "source": [
    "Now, we change the index to timestamp"
   ]
  },
  {
   "cell_type": "code",
   "execution_count": 4,
   "metadata": {},
   "outputs": [
    {
     "data": {
      "text/html": [
       "<div>\n",
       "<style scoped>\n",
       "    .dataframe tbody tr th:only-of-type {\n",
       "        vertical-align: middle;\n",
       "    }\n",
       "\n",
       "    .dataframe tbody tr th {\n",
       "        vertical-align: top;\n",
       "    }\n",
       "\n",
       "    .dataframe thead th {\n",
       "        text-align: right;\n",
       "    }\n",
       "</style>\n",
       "<table border=\"1\" class=\"dataframe\">\n",
       "  <thead>\n",
       "    <tr style=\"text-align: right;\">\n",
       "      <th></th>\n",
       "      <th>delay</th>\n",
       "    </tr>\n",
       "    <tr>\n",
       "      <th>ts</th>\n",
       "      <th></th>\n",
       "    </tr>\n",
       "  </thead>\n",
       "  <tbody>\n",
       "    <tr>\n",
       "      <th>2010-01-01 00:11:52</th>\n",
       "      <td>0.015387</td>\n",
       "    </tr>\n",
       "    <tr>\n",
       "      <th>2010-01-01 00:13:00</th>\n",
       "      <td>0.019097</td>\n",
       "    </tr>\n",
       "    <tr>\n",
       "      <th>2010-01-01 00:14:49</th>\n",
       "      <td>0.017874</td>\n",
       "    </tr>\n",
       "    <tr>\n",
       "      <th>2010-01-01 00:21:00</th>\n",
       "      <td>0.015723</td>\n",
       "    </tr>\n",
       "    <tr>\n",
       "      <th>2010-01-01 00:23:05</th>\n",
       "      <td>0.015980</td>\n",
       "    </tr>\n",
       "  </tbody>\n",
       "</table>\n",
       "</div>"
      ],
      "text/plain": [
       "                        delay\n",
       "ts                           \n",
       "2010-01-01 00:11:52  0.015387\n",
       "2010-01-01 00:13:00  0.019097\n",
       "2010-01-01 00:14:49  0.017874\n",
       "2010-01-01 00:21:00  0.015723\n",
       "2010-01-01 00:23:05  0.015980"
      ]
     },
     "execution_count": 4,
     "metadata": {},
     "output_type": "execute_result"
    }
   ],
   "source": [
    "# Change the index to timestamp\n",
    "df = df.set_index(['ts'])\n",
    "df.head()"
   ]
  },
  {
   "cell_type": "markdown",
   "metadata": {},
   "source": [
    "Then, we can visualize the dataset using matplotlib. "
   ]
  },
  {
   "cell_type": "code",
   "execution_count": 5,
   "metadata": {},
   "outputs": [
    {
     "data": {
      "image/png": "[encoded data removed]",
      "text/plain": [
       "<Figure size 1080x360 with 1 Axes>"
      ]
     },
     "metadata": {
      "needs_background": "light"
     },
     "output_type": "display_data"
    }
   ],
   "source": [
    "fig, ax = plt.subplots(figsize=(15, 5))\n",
    "plt.xlabel('Time', fontsize=12)\n",
    "plt.ylabel('Delay', fontsize=12)\n",
    "plt.tight_layout()\n",
    "ax.tick_params(axis='x', labelsize=12)\n",
    "ax.tick_params(axis='y', labelsize=12)\n",
    "plt.plot(df.index, df.delay, 'k')\n",
    "plt.show()"
   ]
  },
  {
   "cell_type": "markdown",
   "metadata": {
    "collapsed": true
   },
   "source": [
    "## 3 -  Static Threshold-based Anomaly Detection Algorithm ##\n",
    "\n",
    "From the figure above, can you figure out when anomalies occurred? And, can you design an algorithm to detect anomalies? \n",
    "The straightforward idea is to compute a static mean and standard deviation using the whole dataset and then define a threshold to measure how far away a data point is away from the mean. If it's larger or smaller than the threshold, we define it as an anomaly. Let's finish this task step by step. \n",
    "\n",
    "### 3.1 - Compute mean and standard deviation\n",
    "\n",
    "**Instructions**:\n",
    "- Use np.mean(), and np.std() to compute mean and standard deviation."
   ]
  },
  {
   "cell_type": "code",
   "execution_count": 6,
   "metadata": {},
   "outputs": [],
   "source": [
    "# GRADED FUNCTION: compute_mean_std\n",
    "def compute_mean_std(dataset):\n",
    "    \"\"\"\n",
    "    Argument:\n",
    "    dataset -- numpy array\n",
    "    \n",
    "    Returns:\n",
    "    mean -- the mean of dataset\n",
    "    std -- the standard deviation of dataset\n",
    "    \"\"\"\n",
    "    \n",
    "    ### START CODE HERE ### (≈ 2 lines of code)\n",
    "    mean = np.mean(dataset)\n",
    "    std = np.std(dataset)\n",
    "    ### END CODE HERE ###\n",
    "    \n",
    "    return mean, std"
   ]
  },
  {
   "cell_type": "code",
   "execution_count": 7,
   "metadata": {},
   "outputs": [
    {
     "name": "stdout",
     "output_type": "stream",
     "text": [
      "mean = 0.043476009262557895\n",
      "std = 0.17876096415580894\n"
     ]
    }
   ],
   "source": [
    "# TEST FUNCTION: compute_mean_std\n",
    "mean, std = compute_mean_std(df['delay'].values)\n",
    "print(\"mean = \" + str(mean))\n",
    "print(\"std = \" + str(std))"
   ]
  },
  {
   "cell_type": "markdown",
   "metadata": {},
   "source": [
    "**Expected output**:\n",
    "\n",
    "\n",
    "$$\n",
    "mean = 0.043476009262557895, \\\\\n",
    "std = 0.17876096415580894    \n",
    "$$"
   ]
  },
  {
   "cell_type": "markdown",
   "metadata": {},
   "source": [
    "### 3.2 - Compute static threshold\n",
    "The static threshold is defined accroding to mean($\\mu$) and standard deviation($\\sigma$) using whole dataset, which can be defined as,\n",
    "$$threshold = \\mu \\pm s * \\sigma $$\n",
    "\n",
    "And the $s$ is sensitivity to specify how much deviation from mean for detecting an anomaly. The sensitivity of $s$ is hyper-parameters decided based on their experiences. Normally, we choose the value of $s$ between 2 to 3.\n",
    "\n",
    "**Instructions**:\n",
    "- You need to call previous function compute_mean_std() to compute the mean and standard deviation\n",
    "- you need to return threshold as python dictionary including an upper and lower threshold"
   ]
  },
  {
   "cell_type": "code",
   "execution_count": 8,
   "metadata": {},
   "outputs": [],
   "source": [
    "# GRADED FUNCTION: compute_threshold\n",
    "def compute_threshold(dataset, s=3):\n",
    "    \"\"\"\n",
    "    Argument:\n",
    "    dataset -- numpy array\n",
    "    s -- sensitivity\n",
    "    \n",
    "    Returns:\n",
    "    threshold -- python dictionary containing the parameters:\n",
    "                    up -- upper threshold \n",
    "                    low -- lower threshold\n",
    "    \"\"\"\n",
    "    \n",
    "    ### START CODE HERE ### (≈ 3 lines of code)\n",
    "    mean, std = compute_mean_std(dataset)\n",
    "    up = mean + s * std\n",
    "    low = mean - s * std\n",
    "    ### END CODE HERE ###\n",
    "    \n",
    "    threshold = {'up': up, 'low':low}\n",
    "    return threshold"
   ]
  },
  {
   "cell_type": "code",
   "execution_count": 9,
   "metadata": {},
   "outputs": [
    {
     "name": "stdout",
     "output_type": "stream",
     "text": [
      "up = 0.5797589017299847\n",
      "low = -0.4928068832048689\n"
     ]
    }
   ],
   "source": [
    "# TEST FUNCTION: compute_threshold for the given value which is delay for our networking dataset\n",
    "threshold = compute_threshold(df['delay'].values, s=3)\n",
    "print(\"up = \" + str(threshold['up']))\n",
    "print(\"low = \" + str(threshold['low']))"
   ]
  },
  {
   "cell_type": "markdown",
   "metadata": {},
   "source": [
    "**Expected output**:\n",
    "\n",
    "$$\n",
    "up = 0.5797589017299847, \\\\\n",
    "low = -0.4928068832048689    \n",
    "$$"
   ]
  },
  {
   "cell_type": "markdown",
   "metadata": {},
   "source": [
    "### 3.3 - Detect anomaly using a threshold\n",
    "Now, we can detect anomalies in the dataset using a threshold. We can define an anomaly that its value is larger than up threshold or smaller than a low threshold. Mathematically, we can define it as\n",
    "$$\n",
    "anomaly = \n",
    "\\begin{cases}\n",
    "      delay > up\\text{ }threshold  \\\\\n",
    "      delay < low\\text{ }threshold \\\\\n",
    "\\end{cases}       \n",
    "$$\n",
    "\n",
    "**Instructions**:\n",
    "- You need to call previous function compute_threshold() to compute threshold and use sensitivity = 3\n",
    "- you need to return a list of indexes. The indexes are timestamp in dataframe that indicate when anomalies occur"
   ]
  },
  {
   "cell_type": "code",
   "execution_count": 10,
   "metadata": {},
   "outputs": [],
   "source": [
    "# GRADED FUNCTION: detect_anomaly\n",
    "def detect_anomaly(df):\n",
    "    \"\"\"\n",
    "    Argument:\n",
    "    df -- pandas dataframe\n",
    "    \n",
    "    Returns:\n",
    "    anomalies -- list  that indicate when anomalies occur\n",
    "    \"\"\"\n",
    "    \n",
    "    anomalies = []\n",
    "    # 1. compute threshold\n",
    "    ### START CODE HERE ### (≈ 1 lines of code)\n",
    "    threshold = compute_threshold(df['delay'].values, 3)\n",
    "    ### END CODE HERE ###\n",
    "    \n",
    "    # 2. iterate whole dataset \n",
    "    for index, row in df.iterrows():\n",
    "        delay = row['delay']\n",
    "        \n",
    "        ### START CODE HERE ### (≈ 2 lines of code)\n",
    "        if delay > threshold['up'] or delay < threshold['low']:\n",
    "            anomalies.append(index)\n",
    "        ### END CODE HERE ###\n",
    "        \n",
    "    return anomalies"
   ]
  },
  {
   "cell_type": "code",
   "execution_count": 11,
   "metadata": {},
   "outputs": [
    {
     "name": "stdout",
     "output_type": "stream",
     "text": [
      "The number of detected anomalies is 60\n",
      "The first five anomalies are: \n",
      "[Timestamp('2010-01-02 15:15:26'), Timestamp('2010-01-02 15:16:01'), Timestamp('2010-01-02 15:17:00'), Timestamp('2010-01-02 15:17:31'), Timestamp('2010-01-02 15:17:59')]\n"
     ]
    }
   ],
   "source": [
    "# TEST FUNCTION: detect_anomaly\n",
    "anomalies = detect_anomaly(df)\n",
    "print(\"The number of detected anomalies is \" + str(len(anomalies)))\n",
    "print(\"The first five anomalies are: \")\n",
    "print(anomalies[:5])"
   ]
  },
  {
   "cell_type": "markdown",
   "metadata": {},
   "source": [
    "**Expected output**: \n",
    "\n",
    "The number of detected anomalies is 60.\n",
    "\n",
    "The first five anomalies are:<br>\n",
    "[Timestamp('2010-01-02 15:15:26'), Timestamp('2010-01-02 15:16:01'), Timestamp('2010-01-02 15:17:00'), Timestamp('2010-01-02 15:17:31'), Timestamp('2010-01-02 15:17:59')]\n"
   ]
  },
  {
   "cell_type": "markdown",
   "metadata": {},
   "source": [
    "### 3.4 - Visualize anomalies \n",
    "So far, you already know how to detect anomalies using a threshold-based detection algorithm. The last step is to visualize anomalies in the time-series plot. Visualization is very important for better understand the anomalies.\n",
    "\n",
    "**Instructions**:\n",
    "- You need use matplotlib.scatter() to plot anomalies, and set marker attributes such as shape, color, size as (marker='x', s=150, c='r')\n"
   ]
  },
  {
   "cell_type": "code",
   "execution_count": 12,
   "metadata": {},
   "outputs": [],
   "source": [
    "# GRADED FUNCTION: visualize_anomalies\n",
    "def visualize_anomalies(anomalies):\n",
    "    # 1. Plot original time series plot\n",
    "    fig, ax = plt.subplots(figsize=(15, 5))\n",
    "    plt.xlabel('Time', fontsize=12)\n",
    "    plt.ylabel('Delay', fontsize=12)\n",
    "    plt.tight_layout()\n",
    "    ax.tick_params(axis='x', labelsize=12)\n",
    "    ax.tick_params(axis='y', labelsize=12)\n",
    "    plt.plot(df.index, df.delay, 'k', label=\"_nolegend_\")\n",
    "\n",
    "    # 2. Plot anomalies\n",
    "    if anomalies:\n",
    "        ### START CODE HERE ### (≈ 2 lines of code) (Hint: use for loop to plot anomaly)\n",
    "        for i in anomalies:\n",
    "            plt.scatter(i, df.loc[i]['delay'], marker='x', s=150, c='r')\n",
    "        ### END CODE HERE ###\n",
    "\n",
    "        plt.scatter(i, df.loc[i]['delay'], marker='x', s=150, c='r', label='anomlay')\n",
    "    plt.legend(loc='best', fontsize=12, edgecolor='black', fancybox=False)\n",
    "    plt.show()"
   ]
  },
  {
   "cell_type": "code",
   "execution_count": 13,
   "metadata": {},
   "outputs": [
    {
     "data": {
      "image/png": "[encoded data removed]",
      "text/plain": [
       "<Figure size 1080x360 with 1 Axes>"
      ]
     },
     "metadata": {
      "needs_background": "light"
     },
     "output_type": "display_data"
    }
   ],
   "source": [
    "# TEST FUNCTION: visualize_anomalies\n",
    "# 1. detect anomalies \n",
    "anomalies = detect_anomaly(df)\n",
    "\n",
    "# 2. visulize anomlies\n",
    "visualize_anomalies(anomalies)"
   ]
  },
  {
   "cell_type": "markdown",
   "metadata": {},
   "source": [
    "**Expected output**:\n",
    "    if you make everything correctly and set marker attribute as (marker='x', s=150, c='r'), you will get a plot as below:\n",
    "   <img src=\"figs/threshold_based.png\" style=\"width:1080px;height:360px;\">"
   ]
  },
  {
   "cell_type": "markdown",
   "metadata": {},
   "source": [
    "### 3.5 - Conclusion\n",
    "\n",
    "Congrats on implementing the static threshold-based anomaly detection algorithm. However, there are also some issues with the static threshold-based algorithm, which can be observed from the Figure. \n",
    "- The detection algorithm is more sensitive to events with larger deviation, and miss events with a small deviation that cloud be also anomalies comparison with surrounding data points.\n",
    "- The detection algorithm is more sensitive to sudden spikes or dips that are usually random events\n",
    "- There are some repeated detections in a continuous period that might be redundant information for the anomaly detection system.\n",
    "\n",
    "Next, you will implement Adaptive Plateau Detection (APD) to solve these issues."
   ]
  },
  {
   "cell_type": "markdown",
   "metadata": {},
   "source": [
    "## 4 - Adaptive Plateau Detection (APD)  ##"
   ]
  },
  {
   "cell_type": "markdown",
   "metadata": {
    "collapsed": true
   },
   "source": [
    "In this section, we will introduce Adaptive Plateau Detection (APD) algorithm that uses three components to deal with those major issues we discussed. \n",
    "- Sliding window detection algorithm: APD is a sliding window-based method that calculates the mean and variance based on data points in the sliding window, what can deal with the algorithm is more sensitive to events with larger deviation. \n",
    "- Trigger duration: it is designed for solving the problem of sudden spikes or sudden dips.\n",
    "\n",
    "Next, we will implement the algorithm piece by piece bo understand how it works for solving these issues. This implementation is simplified verision from original paper below.\n",
    "\n",
    "**References**\n",
    "Calyam, Prasad, et al. \"Ontimedetect: Dynamic network anomaly notification in perfsonar deployments.\" 2010 IEEE International Symposium on Modeling, Analysis and Simulation of Computer and Telecommunication Systems. IEEE, 2010."
   ]
  },
  {
   "cell_type": "markdown",
   "metadata": {
    "collapsed": true
   },
   "source": [
    "### 4.1 - Sliding window\n",
    "\n",
    "APD algorithm is a sliding windows based algorithm that slides a fixed-size window over time to dynamically adjust the threshold. A regular anomaly detection algorithm will calculate the mean and variance based on all collected data points. But, a sliding window-based detection algorithm only considers the data points within the window for computing mean and variance. So that, it can avoid being only sensitive to events with larger deviations. \n",
    "\n",
    "We will use a fixed-size queue to implement a sliding window. Every time we push a new data point into the queue, we pop the oldest value from the queue. So,\n",
    "- First, we need initialize some data points into the queue before the sliding window\n",
    "- Second, we slide the windows to push new data points into the queue and pop the oldest data points from the queue. Every time, we get a new data point, we detect anomalies within the window."
   ]
  },
  {
   "cell_type": "markdown",
   "metadata": {},
   "source": [
    "#### 4.1.1 - Initialize a fixed size windows\n",
    "To initialize some data points for the sliding window, we use bootstrap methods to randomly sample some data points from original data points. \n",
    "\n",
    "**Instructions**:\n",
    "- You will need to call np.random.choice() function to randomly select 100 data points from original datasets and use the mean of these 100 data points for generating one data point. Then, repeat the window_size times to initialize all required data points."
   ]
  },
  {
   "cell_type": "code",
   "execution_count": 14,
   "metadata": {},
   "outputs": [],
   "source": [
    "def initialize_windows(dataset, window_size=20):\n",
    "    initial_values = []\n",
    "    np.random.seed(0)\n",
    "    \n",
    "    for i in range(window_size):\n",
    "        ### START CODE HERE ### (≈ 2 lines of code)\n",
    "        v = np.mean(np.random.choice(dataset, 100))\n",
    "        initial_values.append(v)\n",
    "        ### END CODE HERE ###\n",
    "        \n",
    "    return initial_values"
   ]
  },
  {
   "cell_type": "code",
   "execution_count": 15,
   "metadata": {},
   "outputs": [
    {
     "name": "stdout",
     "output_type": "stream",
     "text": [
      "initital_values = [0.030868319999999998, 0.03005389, 0.028783759999999995, 0.07386485000000002, 0.05891385, 0.03860200999999999, 0.05960228999999999, 0.05858839, 0.05986293000000001, 0.03607394, 0.02973342, 0.05033927999999999, 0.042647159999999996, 0.02924741, 0.049938289999999996, 0.04024425999999999, 0.06885610000000002, 0.01786969, 0.06322142999999998, 0.03926159]\n"
     ]
    }
   ],
   "source": [
    "# TEST FUNCTION: initialize_windows\n",
    "window_size = 20\n",
    "initial_values = initialize_windows(df['delay'].values, window_size=window_size)\n",
    "print(\"initital_values = %s\" % (str(initial_values))) "
   ]
  },
  {
   "cell_type": "markdown",
   "metadata": {},
   "source": [
    "**Expected output**:\n",
    "\n",
    "$$\n",
    "initial\\_values = [0.030868319999999998, 0.03005389, 0.028783759999999995, 0.07386485000000002, 0.05891385, 0.03860200999999999, 0.05960228999999999, 0.05858839, 0.05986293000000001, 0.03607394, 0.02973342, 0.05033927999999999, 0.042647159999999996, 0.02924741, 0.049938289999999996, 0.04024425999999999, 0.06885610000000002, 0.01786969, 0.06322142999999998, 0.03926159]\n",
    "$$"
   ]
  },
  {
   "cell_type": "markdown",
   "metadata": {},
   "source": [
    "#### 4.1.2 - Sliding window detection algorithm\n",
    "Now, we will extend function detect_anomaly() to sliding_window_anomaly_detection(). The sliding window can be understood as pushing a new data point into the window and poping the oldest data point out of the windows; Then detecting anomalies within the window.\n",
    "\n",
    "**Instructions**:\n",
    "1. You will call function initialize_windows() to get initial values for initializing the windows.\n",
    "2. You will iterate each data point and update the sliding window with a new data point and pop the oldest data point. (Notice! you can use append() and function update() new data point and function pop(0) to pop the oldest data point).\n",
    "3. Whenever you get a new data point, you need to call previous function compute_threshold() to compute threshold and use sensitivity = 3.\n",
    "4. Check if the current data point is an anomaly or not. If it is an anomaly, save the index into the list, which is similar to function detect_anomaly() implemented previously. \n",
    "5. You need to return a list of indexes. The indexes are timestamp in dataframe that indicate when anomalies occur."
   ]
  },
  {
   "cell_type": "code",
   "execution_count": 16,
   "metadata": {},
   "outputs": [],
   "source": [
    "# GRADED FUNCTION: sliding_window_anomaly_detection\n",
    "def sliding_window_anomaly_detection(df, window_size=20):\n",
    "    \n",
    "    # define the sliding window\n",
    "    sliding_window = []\n",
    "    \n",
    "    # define a list to save all anomalies\n",
    "    anomalies = []\n",
    "    \n",
    "    # 1. Call function initialize_windows() to get initial values for initializing the windows\n",
    "    ### START CODE HERE ### (≈ 2 lines of code)\n",
    "    initial_values = initialize_windows(df['delay'].values, window_size)\n",
    "    sliding_window.extend(initial_values)\n",
    "    ### END CODE HERE ###\n",
    "    \n",
    "    # iterate whole dataset \n",
    "    for index, row in df.iterrows():\n",
    "        delay = row['delay']\n",
    "        \n",
    "        # 2. use function append() and pop(0) to udpate sliding window\n",
    "        ### START CODE HERE ### (≈ 2 lines of code)\n",
    "        sliding_window.append(delay)\n",
    "        sliding_window.pop(0)\n",
    "        ### END CODE HERE ###\n",
    "        \n",
    "        assert(len(sliding_window) == window_size)\n",
    "        \n",
    "        # 3. compute threshold within the window\n",
    "        ### START CODE HERE ### (≈ 1 lines of code)\n",
    "        threshold = compute_threshold(sliding_window, 3)\n",
    "        ### END CODE HERE ###\n",
    "        \n",
    "        ### START CODE HERE ### (≈ 2 lines of code)\n",
    "        if delay > threshold['up'] or delay < threshold['low']:\n",
    "            anomalies.append(index)\n",
    "        ### END CODE HERE ###\n",
    "    \n",
    "    return anomalies"
   ]
  },
  {
   "cell_type": "code",
   "execution_count": 17,
   "metadata": {},
   "outputs": [
    {
     "name": "stdout",
     "output_type": "stream",
     "text": [
      "The number of detected anomalies is 57\n",
      "The first five anomalies are: \n",
      "[Timestamp('2010-01-01 02:07:00'), Timestamp('2010-01-01 02:12:25'), Timestamp('2010-01-01 19:00:29'), Timestamp('2010-01-01 21:40:00'), Timestamp('2010-01-02 07:21:00')]\n"
     ]
    }
   ],
   "source": [
    "# TEST FUNCTION: compute_threshold\n",
    "window_size=20\n",
    "anomalies = sliding_window_anomaly_detection(df, window_size=window_size)\n",
    "print(\"The number of detected anomalies is \" + str(len(anomalies)))\n",
    "print(\"The first five anomalies are: \")\n",
    "print(anomalies[:5])"
   ]
  },
  {
   "cell_type": "markdown",
   "metadata": {},
   "source": [
    "**Expected output**:\n",
    "       \n",
    "<table style=\"width:80%\">\n",
    "  <tr>\n",
    "    <td> The number of detected anomalies is 57 </td> \n",
    "  </tr>\n",
    "  \n",
    "  <tr>\n",
    "    <td> The first five anomalies are: <br>\n",
    "[Timestamp('2010-01-01 02:07:00'), Timestamp('2010-01-01 02:12:25'), Timestamp('2010-01-01 19:00:29'), Timestamp('2010-01-01 21:40:00'), Timestamp('2010-01-02 07:21:00')] </td>\n",
    "  </tr>\n",
    "  \n",
    "</table>"
   ]
  },
  {
   "cell_type": "markdown",
   "metadata": {},
   "source": [
    "We can also visualize the anomalies by call the function visualize_anomalies() that implemented previously."
   ]
  },
  {
   "cell_type": "code",
   "execution_count": 18,
   "metadata": {},
   "outputs": [
    {
     "data": {
      "image/png": "[encoded data removed]",
      "text/plain": [
       "<Figure size 1080x360 with 1 Axes>"
      ]
     },
     "metadata": {
      "needs_background": "light"
     },
     "output_type": "display_data"
    }
   ],
   "source": [
    "# TEST FUNCTION: compute_threshold\n",
    "window_size=20\n",
    "anomalies = sliding_window_anomaly_detection(df, window_size=window_size)\n",
    "\n",
    "# 2. visulize anomlies\n",
    "visualize_anomalies(anomalies)"
   ]
  },
  {
   "cell_type": "markdown",
   "metadata": {
    "collapsed": true
   },
   "source": [
    "**Expected output**:\n",
    "    If you make everything correctly, you will get a plot as below:\n",
    "   <img src=\"figs/sliding_based.png\" style=\"width:1080px;height:360px;\">\n",
    "   If the figure cannot be displayed well, you may refer relevant figures in the path \"figs/sliding_based.png\""
   ]
  },
  {
   "cell_type": "markdown",
   "metadata": {
    "collapsed": true
   },
   "source": [
    "#### 4.1.3 - Conclusion\n",
    "Congrats on implementing the sliding window based anomaly detection algorithm. As you can see from the plot, our sliding windows based detection algorithm will dynamically adjust the threshold. So, it can detect anomalies with large deviation and small deviation. But, our algorithm is also affected by sudden changes (spikes or dips). Those events might not impact on network performance. In the next section, we will implement \"trigger duration\" to eliminate sudden change events."
   ]
  },
  {
   "cell_type": "markdown",
   "metadata": {},
   "source": [
    "### 4.2 - APD class implementation\n",
    "\n",
    "Before introducing the trigger duration, we need to put all the functions we have implmented to construct our APD class. Here, we have provided APD class based on previous functions, as follows,"
   ]
  },
  {
   "cell_type": "code",
   "execution_count": 19,
   "metadata": {},
   "outputs": [],
   "source": [
    "from collections import deque\n",
    "\n",
    "np.random.seed(0)\n",
    "\n",
    "class APD(object):\n",
    "    def __init__(self, window_size=20, dataset=None, sensitivity=3):\n",
    "        # define the window size\n",
    "        self.window_size = 20\n",
    "        \n",
    "        # the data in the window\n",
    "        self.sliding_window = deque()\n",
    "        \n",
    "        # keep the dataset (dataframe)\n",
    "        self.dataset = dataset\n",
    "        \n",
    "        # define the sensitivity\n",
    "        self.sensitivity = 3\n",
    "        \n",
    "        # store the anomalies detected\n",
    "        self.anomalies = []\n",
    "        \n",
    "        # initialize windows\n",
    "        self.initialize_windows()\n",
    "    \n",
    "    def initialize_windows(self):\n",
    "        # similar as previous function\n",
    "        initial_values = []\n",
    "  \n",
    "        for i in range(self.window_size):\n",
    "            v = np.mean(np.random.choice(self.dataset['delay'].values, 100))\n",
    "            self.sliding_window.append(v)\n",
    "            \n",
    "            \n",
    "    def compute_threshold(self):\n",
    "        # compute threshold \n",
    "        mean, std = compute_mean_std(self.sliding_window)\n",
    "        up = mean + self.sensitivity * std\n",
    "        low = mean - self.sensitivity * std\n",
    "\n",
    "        threshold = {'up': up, 'low':low}\n",
    "        return threshold\n",
    "\n",
    "    def detect(self):\n",
    "        # iterate the whole dataset \n",
    "        for index, row in self.dataset.iterrows():\n",
    "            delay = row['delay']\n",
    "\n",
    "            # 1. use function append() and pop(0) to udpate sliding window\n",
    "            self.sliding_window.append(delay)\n",
    "            self.sliding_window.popleft()\n",
    "            \n",
    "            assert(len(self.sliding_window) == self.window_size)\n",
    "\n",
    "            # 2. compute threshold within the window\n",
    "            threshold = self.compute_threshold()\n",
    "\n",
    "            # 3. check the threshold \n",
    "            if delay > threshold['up'] or delay < threshold['low']:\n",
    "                self.anomalies.append(index)\n",
    "\n",
    "        return anomalies"
   ]
  },
  {
   "cell_type": "code",
   "execution_count": 20,
   "metadata": {},
   "outputs": [
    {
     "name": "stdout",
     "output_type": "stream",
     "text": [
      "The number of detected anomalies is 57\n",
      "The first five anomalies are: \n",
      "[Timestamp('2010-01-01 02:07:00'), Timestamp('2010-01-01 02:12:25'), Timestamp('2010-01-01 19:00:29'), Timestamp('2010-01-01 21:40:00'), Timestamp('2010-01-02 07:21:00')]\n"
     ]
    }
   ],
   "source": [
    "# TEST FUNCTION: test APD class, i will perform the same behaviour as previous \n",
    "apd = APD(dataset=df)\n",
    "anomalies = apd.detect()\n",
    "\n",
    "window_size=20\n",
    "anomalies = sliding_window_anomaly_detection(df, window_size=window_size)\n",
    "print(\"The number of detected anomalies is \" + str(len(anomalies)))\n",
    "print(\"The first five anomalies are: \")\n",
    "print(anomalies[:5])"
   ]
  },
  {
   "cell_type": "markdown",
   "metadata": {},
   "source": [
    "### 4.2 - Trigger duration\n",
    "Trigger duration method is used to deal with the problem of sudden changes (spikes or dips). More specifically, trigger duration specifies the duration time of an impending event before triggered as an event. This allows our detection algorithm to avoid sudden change events. User needs to specify trigger duration time based on their experience. \n",
    "\n",
    "To implement the trigger duration scheme in APD, we need to import three states, and each point will be classified into the three states as the sliding window moving: No Event (NE), Event Impending (EI) and Event Detected (ED), a counter (trig_cnt) for counting the trigger duration, and a trigger duration threshold. \n",
    "\n",
    "<img src=\"figs/apd_trigger_duration.png\" style=\"width:360px;height:360px;\">\n",
    "\n",
    "As shown the figure above, the trigger duration scheme can be described as following:\n",
    "- When the values lie within upper and lower threshold, the plateau-detector will be detected as no event (NE) state. and the trigger count decrease 1 till it reaches 0;\n",
    "- When the value of a data point is larger than the upper threshold or lower than the lower threshold, the trigger count increase 1; when the trigger count larger than 0.75 * (trigger threshold), it is detected as event impending (EI).\n",
    "- When the trigger count reaches the trigger threshold, the point will be classified as an event detected (ED).\n",
    "- When the trigger count decrease, and it is smaller than trigger threshold and larger than 0.75 * (trigger threshold), the state will back to event impending (EI); when it is smaller than 0.75 * (trigger threshold), the state will back to no event (NE);\n",
    "\n",
    "Then, we need to reconstruct the APD algorithm based on our explanation \n",
    "    1. Add a new class vairable to save the state of APD, like No Event (NE), Event Impending (EI) and Event Detected (ED);\n",
    "    2. Add a new class variable to keep the trigger duration threshold;\n",
    "    3. Add a new class varibale to keep the counts of triggers;"
   ]
  },
  {
   "cell_type": "code",
   "execution_count": 21,
   "metadata": {},
   "outputs": [],
   "source": [
    "from collections import deque\n",
    "np.random.seed(0)\n",
    "\n",
    "class APD(object):\n",
    "    def __init__(self, state='NE', window_size=20, dataset=None, sensitivity=3, trigger_threshold=6):\n",
    "        # 'NE': no event; 'ED': event detected; 'EI': event impending\n",
    "        # The initial state is 'NE' (no event)\n",
    "        self.state = state\n",
    "        \n",
    "        # the counter defines the number of detected events\n",
    "        self.count = 0\n",
    "        \n",
    "        # define the window size\n",
    "        self.window_size = 20\n",
    "        \n",
    "        # the data in the window\n",
    "        self.sliding_window = deque()\n",
    "        \n",
    "        # keep the dataset (dataframe)\n",
    "        self.dataset = dataset\n",
    "        \n",
    "        # define the sensitivity\n",
    "        self.sensitivity = 3\n",
    "        \n",
    "        # store the anomalies detected\n",
    "        self.anomalies = []\n",
    "        \n",
    "        # keep the count of trigger\n",
    "        self.trigger_count = 0\n",
    "        \n",
    "        # keep the trigger duration threshold\n",
    "        self.trigger_threshold = trigger_threshold\n",
    "        \n",
    "        # initialize windows\n",
    "        self.initialize_windows()\n",
    "    \n",
    "    def initialize_windows(self):\n",
    "        # similar as previous function\n",
    "        initial_values = []\n",
    "  \n",
    "        for i in range(self.window_size):\n",
    "            v = np.mean(np.random.choice(self.dataset['delay'].values, 100))\n",
    "            self.sliding_window.append(v)\n",
    "            \n",
    "            \n",
    "    def compute_threshold(self):\n",
    "        # compute threshold \n",
    "        mean, std = compute_mean_std(self.sliding_window)\n",
    "        up = mean + self.sensitivity * std\n",
    "        low = mean - self.sensitivity * std\n",
    "\n",
    "        threshold = {'up': up, 'low': low}\n",
    "        return threshold\n",
    "\n",
    "    def detect(self):\n",
    "        # iterate the whole dataset \n",
    "        for index, row in self.dataset.iterrows():\n",
    "            delay = row['delay']\n",
    "\n",
    "            # 1. use function append() and popleft to udpate sliding window\n",
    "            self.sliding_window.append(delay)\n",
    "            self.sliding_window.popleft()\n",
    "            \n",
    "            assert(len(self.sliding_window) == self.window_size)\n",
    "\n",
    "            # 2. compute threshold within the window, update the threshold when there is no trigger\n",
    "            if self.trigger_count == 0:\n",
    "                threshold = self.compute_threshold()\n",
    "            \n",
    "            ### START CODE HERE ### \n",
    "            # 3. use the logic to implement trigger duration scheme\n",
    "            if delay > threshold['up'] or delay < threshold['low']:\n",
    "                \n",
    "                self.trigger_count += 1\n",
    "                if self.state == 'NE' and self.trigger_count >= 0.75 * self.trigger_threshold:\n",
    "                    self.state = 'EI'\n",
    "                elif self.state == 'EI' and self.trigger_count == self.trigger_threshold:\n",
    "                    self.state = 'ED'\n",
    "                    self.anomalies.append(index)\n",
    "            else:\n",
    "                if self.trigger_count > 0:\n",
    "                    self.trigger_count -= 1\n",
    "                    \n",
    "                if self.state == 'ED' and self.trigger_count < self.trigger_threshold:\n",
    "                    self.state = 'EI'\n",
    "                elif self.state == 'EI' and self.trigger_count < int(0.75 * self.trigger_threshold):\n",
    "                    self.state = 'NE'\n",
    "            ### END CODE HERE ###\n",
    "            \n",
    "        return self.anomalies"
   ]
  },
  {
   "cell_type": "code",
   "execution_count": 22,
   "metadata": {},
   "outputs": [
    {
     "data": {
      "image/png": "[encoded data removed]",
      "text/plain": [
       "<Figure size 1080x360 with 1 Axes>"
      ]
     },
     "metadata": {
      "needs_background": "light"
     },
     "output_type": "display_data"
    }
   ],
   "source": [
    "# TEST FUNCTION: Trigger duration scheme\n",
    "apd = APD(dataset=df)\n",
    "anomalies = apd.detect()\n",
    "\n",
    "# 2. visulize anomlies\n",
    "visualize_anomalies(anomalies)"
   ]
  },
  {
   "cell_type": "markdown",
   "metadata": {},
   "source": [
    "**Expected output**:\n",
    "    If you make everything correctly, you will get a plot as below: \n",
    "   <img src=\"figs/apd_trigger.png\" style=\"width:1080px;height:360px;\">\n",
    "   If the figure cannot be displayed well, you may refer relevant figures in the path \"figs/apd_trigger.png\""
   ]
  },
  {
   "cell_type": "markdown",
   "metadata": {},
   "source": [
    "### 4.3 - Conclusion\n",
    "Congrats on implementing all APD aglorithm, which uses a sliding window scheme algorithm to dynimcally adjust threhold, and use trigger duration to deal with sudden changes (such as spikes, dips). You can compare with previous figure. The anomaleis detected by APD are realy anomlaies that can infulence networking performance. \n",
    "\n",
    "Please submit your executable jupyter notebook file (*.ipyn) with the outputs.\n",
    "\n",
    "<img src=\"figs/apd_trigger.png\" style=\"width:1080px;height:360px;\">\n",
    "<img src=\"figs/sliding_based.png\" style=\"width:1080px;height:360px;\">"
   ]
  }
 ],
 "metadata": {
  "kernelspec": {
   "display_name": "Python 3",
   "language": "python",
   "name": "python3"
  },
  "language_info": {
   "codemirror_mode": {
    "name": "ipython",
    "version": 3
   },
   "file_extension": ".py",
   "mimetype": "text/x-python",
   "name": "python",
   "nbconvert_exporter": "python",
   "pygments_lexer": "ipython3",
   "version": "3.8.5"
  },
  "pycharm": {
   "stem_cell": {
    "cell_type": "raw",
    "metadata": {
     "collapsed": false
    },
    "source": []
   }
  }
 },
 "nbformat": 4,
 "nbformat_minor": 1
}
